{
  "nbformat": 4,
  "nbformat_minor": 0,
  "metadata": {
    "colab": {
      "provenance": [],
      "authorship_tag": "ABX9TyMyNN2mvJ3rgmjsRkYcoR3S",
      "include_colab_link": true
    },
    "kernelspec": {
      "name": "python3",
      "display_name": "Python 3"
    },
    "language_info": {
      "name": "python"
    }
  },
  "cells": [
    {
      "cell_type": "markdown",
      "metadata": {
        "id": "view-in-github",
        "colab_type": "text"
      },
      "source": [
        "<a href=\"https://colab.research.google.com/github/2403a52212-ai/2403a52212.../blob/main/4_3.ipynb\" target=\"_parent\"><img src=\"https://colab.research.google.com/assets/colab-badge.svg\" alt=\"Open In Colab\"/></a>"
      ]
    },
    {
      "cell_type": "code",
      "execution_count": 1,
      "metadata": {
        "colab": {
          "base_uri": "https://localhost:8080/"
        },
        "id": "YtXFurGzm4cy",
        "outputId": "910dbc07-5168-42f3-9b74-259a70d46839"
      },
      "outputs": [
        {
          "output_type": "stream",
          "name": "stdout",
          "text": [
            "2024 is a leap year: True\n",
            "2023 is a leap year: False\n",
            "2000 is a leap year: True\n",
            "1900 is a leap year: False\n"
          ]
        }
      ],
      "source": [
        "def is_leap_year(year):\n",
        "  \"\"\"\n",
        "  Checks if a given year is a leap year.\n",
        "\n",
        "  Args:\n",
        "    year: An integer representing the year.\n",
        "\n",
        "  Returns:\n",
        "    True if the year is a leap year, False otherwise.\n",
        "  \"\"\"\n",
        "  if (year % 4 == 0 and year % 100 != 0) or (year % 400 == 0):\n",
        "    return True\n",
        "  else:\n",
        "    return False\n",
        "\n",
        "# Example usage:\n",
        "print(f\"2024 is a leap year: {is_leap_year(2024)}\")\n",
        "print(f\"2023 is a leap year: {is_leap_year(2023)}\")\n",
        "print(f\"2000 is a leap year: {is_leap_year(2000)}\")\n",
        "print(f\"1900 is a leap year: {is_leap_year(1900)}\")"
      ]
    },
    {
      "cell_type": "code",
      "metadata": {
        "colab": {
          "base_uri": "https://localhost:8080/"
        },
        "id": "0527e54c",
        "outputId": "71406e91-89cd-46c4-eacd-f9aac8fbb6f4"
      },
      "source": [
        "def cm_to_m(cm):\n",
        "  \"\"\"\n",
        "  Converts centimeters to meters.\n",
        "\n",
        "  Args:\n",
        "    cm: A float representing the length in centimeters.\n",
        "\n",
        "  Returns:\n",
        "    A float representing the length in meters.\n",
        "  \"\"\"\n",
        "  return cm / 100.0\n",
        "\n",
        "# Example usage:\n",
        "print(f\"1 cm is equal to {cm_to_m(1.0)} m\")\n",
        "print(f\"100 cm is equal to {cm_to_m(100.0)} m\")\n",
        "print(f\"250.5 cm is equal to {cm_to_m(250.5)} m\")"
      ],
      "execution_count": 3,
      "outputs": [
        {
          "output_type": "stream",
          "name": "stdout",
          "text": [
            "1 cm is equal to 0.01 m\n",
            "100 cm is equal to 1.0 m\n",
            "250.5 cm is equal to 2.505 m\n"
          ]
        }
      ]
    },
    {
      "cell_type": "code",
      "source": [
        "def separate_name(full_name):\n",
        "  \"\"\"\n",
        "  Separates a full name into first and last names.\n",
        "\n",
        "  Args:\n",
        "    full_name: A string representing the full name.\n",
        "\n",
        "  Returns:\n",
        "    A tuple containing the first name and last name.\n",
        "  \"\"\"\n",
        "  names = full_name.split()\n",
        "  if len(names) > 1:\n",
        "    first_name = names[0]\n",
        "    last_name = names[-1]\n",
        "    return first_name, last_name\n",
        "  elif len(names) == 1:\n",
        "    return names[0], \"\" # Return empty string for last name if only one name\n",
        "  else:\n",
        "    return \"\", \"\" # Return empty strings for both if no name provided\n",
        "\n",
        "\n",
        "# Example usage:\n",
        "first, last = separate_name(\"Sathya Prakash Rao\")\n",
        "print(f\"Full name: Sathya Prakash Rao, First name: {first}, Last name: {last}\")\n",
        "\n",
        "first, last = separate_name(\"Jane Doe\")\n",
        "print(f\"Full name: Jane Doe, First name: {first}, Last name: {last}\")\n",
        "\n",
        "first, last = separate_name(\"John\")\n",
        "print(f\"Full name: John, First name: {first}, Last name: {last}\")\n",
        "\n",
        "first, last = separate_name(\"\")\n",
        "print(f\"Full name: '', First name: {first}, Last name: {last}\")"
      ],
      "metadata": {
        "colab": {
          "base_uri": "https://localhost:8080/"
        },
        "id": "pIsg17D_nkhj",
        "outputId": "4e74af56-fdbe-4208-87fe-6c1b6ec8a332"
      },
      "execution_count": 4,
      "outputs": [
        {
          "output_type": "stream",
          "name": "stdout",
          "text": [
            "Full name: Sathya Prakash Rao, First name: Sathya, Last name: Rao\n",
            "Full name: Jane Doe, First name: Jane, Last name: Doe\n",
            "Full name: John, First name: John, Last name: \n",
            "Full name: '', First name: , Last name: \n"
          ]
        }
      ]
    },
    {
      "cell_type": "code",
      "source": [
        "def count_vowels(text):\n",
        "  \"\"\"\n",
        "  Counts the number of vowels in a string.\n",
        "\n",
        "  Args:\n",
        "    text: The input string.\n",
        "\n",
        "  Returns:\n",
        "    The number of vowels in the string.\n",
        "  \"\"\"\n",
        "  vowels = \"aeiouAEIOU\"\n",
        "  vowel_count = 0\n",
        "  for char in text:\n",
        "    if char in vowels:\n",
        "      vowel_count += 1\n",
        "  return vowel_count\n",
        "\n",
        "# Example usage:\n",
        "print(f\"Number of vowels in 'hello world': {count_vowels('hello world')}\")\n",
        "print(f\"Number of vowels in 'Python Programming': {count_vowels('Python Programming')}\")\n",
        "print(f\"Number of vowels in 'AEIOU': {count_vowels('AEIOU')}\")\n",
        "print(f\"Number of vowels in 'bcdfg': {count_vowels('bcdfg')}\")"
      ],
      "metadata": {
        "colab": {
          "base_uri": "https://localhost:8080/"
        },
        "id": "uInJiHNGnsBg",
        "outputId": "2615ef21-c629-4812-a6d7-d2eda0e645ef"
      },
      "execution_count": 5,
      "outputs": [
        {
          "output_type": "stream",
          "name": "stdout",
          "text": [
            "Number of vowels in 'hello world': 3\n",
            "Number of vowels in 'Python Programming': 4\n",
            "Number of vowels in 'AEIOU': 5\n",
            "Number of vowels in 'bcdfg': 0\n"
          ]
        }
      ]
    },
    {
      "cell_type": "code",
      "source": [
        "def count_vowels(text):\n",
        "  \"\"\"\n",
        "  Counts the number of vowels in a string.\n",
        "\n",
        "  Args:\n",
        "    text: The input string.\n",
        "\n",
        "  Returns:\n",
        "    The number of vowels in the string.\n",
        "  \"\"\"\n",
        "  vowels = \"aeiouAEIOU\"\n",
        "  vowel_count = 0\n",
        "  for char in text:\n",
        "    if char in vowels:\n",
        "      vowel_count += 1\n",
        "  return vowel_count\n",
        "\n",
        "# Example usage:\n",
        "print(f\"Number of vowels in 'Elephant': {count_vowels('Elephant')}\")\n",
        "print(f\"Number of vowels in 'GheImpoAE': {count_vowels('GheImpoAE')}\")\n",
        "print(f\"Number of vowels in 'hello world': {count_vowels('hello world')}\")"
      ],
      "metadata": {
        "colab": {
          "base_uri": "https://localhost:8080/"
        },
        "id": "-mYwHW9Mnyqj",
        "outputId": "1c6b8398-f146-445b-a727-733e5e08b5dd"
      },
      "execution_count": 6,
      "outputs": [
        {
          "output_type": "stream",
          "name": "stdout",
          "text": [
            "Number of vowels in 'Elephant': 3\n",
            "Number of vowels in 'GheImpoAE': 5\n",
            "Number of vowels in 'hello world': 3\n"
          ]
        }
      ]
    },
    {
      "cell_type": "code",
      "source": [
        "def count_lines_in_file(file_path):\n",
        "  \"\"\"\n",
        "  Reads a .txt file and counts the number of lines.\n",
        "\n",
        "  Args:\n",
        "    file_path: The path to the .txt file.\n",
        "\n",
        "  Returns:\n",
        "    The number of lines in the file.\n",
        "  \"\"\"\n",
        "  try:\n",
        "    with open(file_path, 'r') as file:\n",
        "      line_count = 0\n",
        "      for line in file:\n",
        "        line_count += 1\n",
        "    return line_count\n",
        "  except FileNotFoundError:\n",
        "    return \"Error: File not found.\"\n",
        "  except Exception as e:\n",
        "    return f\"An error occurred: {e}\"\n",
        "\n",
        "# Example usage (replace 'your_file.txt' with the actual file path):\n",
        "# Create a dummy file for demonstration\n",
        "with open('example_file.txt', 'w') as f:\n",
        "    f.write(\"This is line 1.\\n\")\n",
        "    f.write(\"This is line 2, which is a bit longer and might wrap.\\n\")\n",
        "    f.write(\"Line 3.\\n\")\n",
        "    f.write(\"Line 4.\\n\")\n",
        "    f.write(\"Line 5, without a full stop\")\n",
        "    f.write(\"Line 6.\")\n",
        "\n",
        "\n",
        "file_path = 'example_file.txt'\n",
        "number_of_lines = count_lines_in_file(file_path)\n",
        "print(f\"The file '{file_path}' has {number_of_lines} lines.\")"
      ],
      "metadata": {
        "colab": {
          "base_uri": "https://localhost:8080/"
        },
        "id": "oq01qrQwn5qq",
        "outputId": "03eda6e4-ef5d-4ee1-b075-9edb3ff373a1"
      },
      "execution_count": 8,
      "outputs": [
        {
          "output_type": "stream",
          "name": "stdout",
          "text": [
            "The file 'example_file.txt' has 5 lines.\n"
          ]
        }
      ]
    }
  ]
}