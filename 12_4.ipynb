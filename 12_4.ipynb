{
  "nbformat": 4,
  "nbformat_minor": 0,
  "metadata": {
    "colab": {
      "provenance": [],
      "toc_visible": true,
      "authorship_tag": "ABX9TyPbsQu9Z/zd3nPR+miSGu5i",
      "include_colab_link": true
    },
    "kernelspec": {
      "name": "python3",
      "display_name": "Python 3"
    },
    "language_info": {
      "name": "python"
    }
  },
  "cells": [
    {
      "cell_type": "markdown",
      "metadata": {
        "id": "view-in-github",
        "colab_type": "text"
      },
      "source": [
        "<a href=\"https://colab.research.google.com/github/2403a52212-ai/2403a52212.../blob/main/12_4.ipynb\" target=\"_parent\"><img src=\"https://colab.research.google.com/assets/colab-badge.svg\" alt=\"Open In Colab\"/></a>"
      ]
    },
    {
      "cell_type": "code",
      "execution_count": null,
      "metadata": {
        "id": "f4F9sEmj7SGy"
      },
      "outputs": [],
      "source": []
    },
    {
      "cell_type": "code",
      "metadata": {
        "colab": {
          "base_uri": "https://localhost:8080/"
        },
        "id": "3757b4ca",
        "outputId": "19688176-e671-4a81-926c-fb92fe2df28e"
      },
      "source": [
        "def bubble_sort(arr):#12.4\n",
        "    n = len(arr)\n",
        "    # Traverse through all array elements\n",
        "    for i in range(n):\n",
        "        # Last i elements are already in place\n",
        "        for j in range(0, n - i - 1):\n",
        "            # traverse the array from 0 to n-i-1\n",
        "            # Swap if the element found is greater than the next element\n",
        "            if arr[j] > arr[j + 1]:\n",
        "                arr[j], arr[j + 1] = arr[j + 1], arr[j]\n",
        "\n",
        "    return arr\n",
        "\n",
        "# Example usage:\n",
        "arr = [64, 34, 25, 12, 22, 11, 90]\n",
        "print(\"Original array:\", arr)\n",
        "sorted_arr = bubble_sort(arr)\n",
        "print(\"Sorted array:\", sorted_arr)"
      ],
      "execution_count": null,
      "outputs": [
        {
          "output_type": "stream",
          "name": "stdout",
          "text": [
            "Original array: [64, 34, 25, 12, 22, 11, 90]\n",
            "Sorted array: [11, 12, 22, 25, 34, 64, 90]\n"
          ]
        }
      ]
    },
    {
      "cell_type": "markdown",
      "metadata": {
        "id": "26454569"
      },
      "source": [
        "**Time Complexity Analysis:**\n",
        "\n",
        "Bubble Sort has a time complexity of **O(n^2)** in the worst and average cases, where 'n' is the number of elements in the array. This is because for each element, it might need to compare and swap with every other element in the worst case. In the best case (when the array is already sorted), the time complexity is **O(n)** because it only needs one pass to determine that no swaps are needed."
      ]
    },
    {
      "cell_type": "code",
      "source": [],
      "metadata": {
        "id": "pCFf3-rc74Jl"
      },
      "execution_count": null,
      "outputs": []
    },
    {
      "cell_type": "code",
      "metadata": {
        "colab": {
          "base_uri": "https://localhost:8080/"
        },
        "id": "11b864e2",
        "outputId": "08fc3c8f-c3da-4a96-9427-22515f71f531"
      },
      "source": [
        "def insertion_sort(arr):\n",
        "    # Traverse through 1 to len(arr)\n",
        "    for i in range(1, len(arr)):\n",
        "        key = arr[i]\n",
        "        # Move elements of arr[0..i-1], that are greater than key, to one position ahead of their current position\n",
        "        j = i - 1\n",
        "        while j >= 0 and key < arr[j]:\n",
        "            arr[j + 1] = arr[j]\n",
        "            j -= 1\n",
        "        arr[j + 1] = key\n",
        "    return arr\n",
        "\n",
        "# Example usage:\n",
        "arr = [64, 34, 25, 12, 22, 11, 90]\n",
        "print(\"Original array:\", arr)\n",
        "sorted_arr = insertion_sort(arr)\n",
        "print(\"Sorted array:\", sorted_arr)"
      ],
      "execution_count": null,
      "outputs": [
        {
          "output_type": "stream",
          "name": "stdout",
          "text": [
            "Original array: [64, 34, 25, 12, 22, 11, 90]\n",
            "Sorted array: [11, 12, 22, 25, 34, 64, 90]\n"
          ]
        }
      ]
    },
    {
      "cell_type": "markdown",
      "metadata": {
        "id": "113af4e3"
      },
      "source": [
        "**Why Insertion Sort is More Efficient for Partially Sorted Data:**\n",
        "\n",
        "Insertion Sort is generally more efficient than Bubble Sort for partially sorted arrays because it performs fewer comparisons and swaps. In Insertion Sort, when an element is being inserted into its correct position, it only needs to be compared with the elements to its left until its proper place is found. If the array is partially sorted, this process is faster as the elements are already close to their final positions.\n",
        "\n",
        "Bubble Sort, on the other hand, always iterates through the entire unsorted portion of the array in each pass, regardless of how sorted it is. This means it will always perform O(n^2) comparisons and swaps in the worst and average cases, even for partially sorted data.\n",
        "\n",
        "While both have a worst-case time complexity of O(n^2), Insertion Sort's average and best-case performance on nearly sorted data is significantly better, approaching O(n)."
      ]
    },
    {
      "cell_type": "code",
      "source": [],
      "metadata": {
        "id": "3jKojO5M8wvW"
      },
      "execution_count": null,
      "outputs": []
    },
    {
      "cell_type": "code",
      "metadata": {
        "colab": {
          "base_uri": "https://localhost:8080/"
        },
        "id": "63c6b2b0",
        "outputId": "5ebaaeb2-f8d4-4ee5-dba2-10cd39ff8bd5"
      },
      "source": [
        "def linear_search(arr, target):\n",
        "    \"\"\"\n",
        "    Performs linear search to find the index of a target element in an array.\n",
        "\n",
        "    Args:\n",
        "        arr: The list or array to search within.\n",
        "        target: The element to search for.\n",
        "\n",
        "    Returns:\n",
        "        The index of the target element if found, otherwise -1.\n",
        "    \"\"\"\n",
        "    for i in range(len(arr)):\n",
        "        if arr[i] == target:\n",
        "            return i\n",
        "    return -1\n",
        "\n",
        "# Example usage:\n",
        "my_list = [10, 25, 5, 18, 30, 12]\n",
        "target_element = 18\n",
        "index = linear_search(my_list, target_element)\n",
        "\n",
        "if index != -1:\n",
        "    print(f\"Element {target_element} found at index {index}\")\n",
        "else:\n",
        "    print(f\"Element {target_element} not found in the list\")\n",
        "\n",
        "target_element = 100\n",
        "index = linear_search(my_list, target_element)\n",
        "\n",
        "if index != -1:\n",
        "    print(f\"Element {target_element} found at index {index}\")\n",
        "else:\n",
        "    print(f\"Element {target_element} not found in the list\")"
      ],
      "execution_count": null,
      "outputs": [
        {
          "output_type": "stream",
          "name": "stdout",
          "text": [
            "Element 18 found at index 3\n",
            "Element 100 not found in the list\n"
          ]
        }
      ]
    },
    {
      "cell_type": "code",
      "source": [],
      "metadata": {
        "id": "67okvadC9DYn"
      },
      "execution_count": null,
      "outputs": []
    },
    {
      "cell_type": "code",
      "metadata": {
        "colab": {
          "base_uri": "https://localhost:8080/"
        },
        "id": "98dce6c1",
        "outputId": "56edd615-d8ad-493c-a50d-384225845f99"
      },
      "source": [
        "def merge_sort(arr):\n",
        "    \"\"\"\n",
        "    Sorts an array using the Merge Sort algorithm.\n",
        "\n",
        "    Merge Sort is a divide-and-conquer algorithm that divides the input array\n",
        "    into two halves, calls itself for the two halves, and then merges the two\n",
        "    sorted halves. The merge() function is used for merging two halves. The\n",
        "    merge(arr, l, m, r) is a key process that assumes that arr[l..m] and arr[m+1..r]\n",
        "    are sorted and merges the two sorted halves into a single sorted array.\n",
        "\n",
        "    Args:\n",
        "        arr: The list or array to sort.\n",
        "\n",
        "    Returns:\n",
        "        The sorted list or array.\n",
        "\n",
        "    Performance Notes:\n",
        "    - Time Complexity: O(n log n) in all cases (best, average, and worst).\n",
        "    - Space Complexity: O(n) due to the temporary arrays created during merging.\n",
        "    \"\"\"\n",
        "    if len(arr) > 1:\n",
        "        mid = len(arr) // 2  # Finding the middle of the array\n",
        "        left_half = arr[:mid]  # Dividing the array elements\n",
        "        right_half = arr[mid:]  # into 2 halves\n",
        "\n",
        "        merge_sort(left_half)  # Sorting the first half\n",
        "        merge_sort(right_half)  # Sorting the second half\n",
        "\n",
        "        i = j = k = 0\n",
        "\n",
        "        # Copy data to temp arrays left_half[] and right_half[]\n",
        "        while i < len(left_half) and j < len(right_half):\n",
        "            if left_half[i] < right_half[j]:\n",
        "                arr[k] = left_half[i]\n",
        "                i += 1\n",
        "            else:\n",
        "                arr[k] = right_half[j]\n",
        "                j += 1\n",
        "            k += 1\n",
        "\n",
        "        # Checking if any elements were left\n",
        "        while i < len(left_half):\n",
        "            arr[k] = left_half[i]\n",
        "            i += 1\n",
        "            k += 1\n",
        "\n",
        "        while j < len(right_half):\n",
        "            arr[k] = right_half[j]\n",
        "            j += 1\n",
        "            k += 1\n",
        "    return arr\n",
        "\n",
        "# Example usage:\n",
        "arr = [12, 11, 13, 5, 6, 7]\n",
        "print(\"Original array:\", arr)\n",
        "sorted_arr = merge_sort(arr)\n",
        "print(\"Sorted array:\", sorted_arr)"
      ],
      "execution_count": null,
      "outputs": [
        {
          "output_type": "stream",
          "name": "stdout",
          "text": [
            "Original array: [12, 11, 13, 5, 6, 7]\n",
            "Sorted array: [5, 6, 7, 11, 12, 13]\n"
          ]
        }
      ]
    },
    {
      "cell_type": "code",
      "source": [],
      "metadata": {
        "id": "TpSTAdjUhB3r"
      },
      "execution_count": null,
      "outputs": []
    },
    {
      "cell_type": "code",
      "metadata": {
        "colab": {
          "base_uri": "https://localhost:8080/"
        },
        "id": "625c33cb",
        "outputId": "cb1f274c-658d-43a1-e5e9-ded7c725794c"
      },
      "source": [
        "def brute_force_find_duplicates(arr):\n",
        "    \"\"\"\n",
        "    Finds duplicate elements in a list using a brute-force approach (O(n^2)).\n",
        "\n",
        "    Args:\n",
        "        arr: The list to search for duplicates.\n",
        "\n",
        "    Returns:\n",
        "        A list of duplicate elements.\n",
        "    \"\"\"\n",
        "    duplicates = []\n",
        "    n = len(arr)\n",
        "    for i in range(n):\n",
        "        for j in range(i + 1, n):\n",
        "            if arr[i] == arr[j] and arr[i] not in duplicates:\n",
        "                duplicates.append(arr[i])\n",
        "    return duplicates\n",
        "\n",
        "# Example usage:\n",
        "my_list = [1, 2, 3, 4, 2, 5, 6, 3, 7, 8, 8]\n",
        "print(\"Original list:\", my_list)\n",
        "duplicate_elements = brute_force_find_duplicates(my_list)\n",
        "print(\"Duplicate elements (brute force):\", duplicate_elements)"
      ],
      "execution_count": 1,
      "outputs": [
        {
          "output_type": "stream",
          "name": "stdout",
          "text": [
            "Original list: [1, 2, 3, 4, 2, 5, 6, 3, 7, 8, 8]\n",
            "Duplicate elements (brute force): [2, 3, 8]\n"
          ]
        }
      ]
    }
  ]
}